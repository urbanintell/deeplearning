{
 "cells": [
  {
   "cell_type": "code",
   "execution_count": 2,
   "metadata": {},
   "outputs": [],
   "source": [
    "import pandas as pd"
   ]
  },
  {
   "cell_type": "code",
   "execution_count": 3,
   "metadata": {},
   "outputs": [],
   "source": [
    "import numpy as np"
   ]
  },
  {
   "cell_type": "code",
   "execution_count": 4,
   "metadata": {},
   "outputs": [],
   "source": [
    "from numpy import genfromtxt\n",
    "my_data = genfromtxt('cryo.csv', delimiter=',')"
   ]
  },
  {
   "cell_type": "code",
   "execution_count": 5,
   "metadata": {},
   "outputs": [],
   "source": [
    "column_names = [\"sex\",\"age\",\"Time\",\"Number_of_Warts\",\"Type\",\"Area\",\"Result_of_Treatment\"]\n",
    "\n",
    "data = pd.read_csv('cryo.csv')\n",
    "y = data[\"Result_of_Treatment\"]\n",
    "data = data.drop(columns=[\"Result_of_Treatment\"])"
   ]
  },
  {
   "cell_type": "code",
   "execution_count": null,
   "metadata": {},
   "outputs": [],
   "source": []
  },
  {
   "cell_type": "code",
   "execution_count": 6,
   "metadata": {
    "scrolled": true
   },
   "outputs": [
    {
     "name": "stderr",
     "output_type": "stream",
     "text": [
      "/Users/lusenii/anaconda3/lib/python3.6/site-packages/h5py/__init__.py:36: FutureWarning: Conversion of the second argument of issubdtype from `float` to `np.floating` is deprecated. In future, it will be treated as `np.float64 == np.dtype(float).type`.\n",
      "  from ._conv import register_converters as _register_converters\n"
     ]
    }
   ],
   "source": [
    "import tensorflow as tf"
   ]
  },
  {
   "cell_type": "code",
   "execution_count": 7,
   "metadata": {},
   "outputs": [],
   "source": [
    "from sklearn.model_selection import train_test_split\n",
    "from sklearn import preprocessing\n",
    "\n",
    "x = data.values #returns a numpy array\n",
    "min_max_scaler = preprocessing.MinMaxScaler()\n",
    "x_scaled = min_max_scaler.fit_transform(x)\n",
    "df = pd.DataFrame(x_scaled, columns=data.columns)\n"
   ]
  },
  {
   "cell_type": "code",
   "execution_count": 8,
   "metadata": {},
   "outputs": [],
   "source": [
    "X_train, X_test, y_train, y_test = train_test_split(data, y, test_size=0.20, random_state=42)\n",
    "\n",
    "partial_X_train, X_val, partial_y_train, y_val = train_test_split(X_train, y_train, test_size=0.2, random_state=1)"
   ]
  },
  {
   "cell_type": "code",
   "execution_count": 9,
   "metadata": {},
   "outputs": [],
   "source": [
    "X_TRAIN_LABELS = np.asarray(X_train).astype('float32')\n",
    "X_TEST_LABELS = np.asarray(X_test).astype('float32')"
   ]
  },
  {
   "cell_type": "code",
   "execution_count": 10,
   "metadata": {},
   "outputs": [],
   "source": [
    "X_train=tf.convert_to_tensor(X_train)\n",
    "X_test = tf.convert_to_tensor(X_test)\n",
    "\n",
    "y_train=tf.convert_to_tensor(y_train)\n",
    "y_test = tf.convert_to_tensor(y_test)\n",
    "\n",
    "\n",
    "X_val=tf.convert_to_tensor( X_val)\n",
    "y_val = tf.convert_to_tensor(y_val)\n",
    "\n",
    "\n",
    "partial_X_train=tf.convert_to_tensor( partial_X_train)\n",
    "partial_y_train = tf.convert_to_tensor(partial_y_train)\n"
   ]
  },
  {
   "cell_type": "code",
   "execution_count": 11,
   "metadata": {},
   "outputs": [
    {
     "name": "stderr",
     "output_type": "stream",
     "text": [
      "Using TensorFlow backend.\n"
     ]
    }
   ],
   "source": [
    "from keras import models\n",
    "from keras import layers\n",
    "\n",
    "model = models.Sequential()\n",
    "model.add(layers.Dense(16, activation='relu', input_shape=(6,)))\n",
    "model.add(layers.Dense(16, activation='relu'))\n",
    "# model.add(layers.Dense(2, activation=tf.sigmoid))\n",
    "# model.add(layers.Dense(4, activation='relu'))\n",
    "# model.add(layers.Dense(2, activation='relu'))\n",
    "model.add(layers.Dense(1, activation=tf.sigmoid))"
   ]
  },
  {
   "cell_type": "code",
   "execution_count": 12,
   "metadata": {},
   "outputs": [],
   "source": [
    "model.compile(optimizer='rmsprop',\n",
    "              loss='binary_crossentropy',\n",
    "              metrics=['accuracy'])"
   ]
  },
  {
   "cell_type": "code",
   "execution_count": 13,
   "metadata": {},
   "outputs": [
    {
     "name": "stdout",
     "output_type": "stream",
     "text": [
      "Epoch 1/80\n",
      "16/16 [==============================] - 0s 27ms/step - loss: 1.7056 - acc: 0.5151\n",
      "Epoch 2/80\n",
      "16/16 [==============================] - 0s 3ms/step - loss: 1.1253 - acc: 0.5061\n",
      "Epoch 3/80\n",
      "16/16 [==============================] - 0s 4ms/step - loss: 0.9950 - acc: 0.5041\n",
      "Epoch 4/80\n",
      "16/16 [==============================] - 0s 3ms/step - loss: 0.9239 - acc: 0.5031\n",
      "Epoch 5/80\n",
      "16/16 [==============================] - 0s 3ms/step - loss: 0.8758 - acc: 0.5036\n",
      "Epoch 6/80\n",
      "16/16 [==============================] - 0s 4ms/step - loss: 0.8405 - acc: 0.5041\n",
      "Epoch 7/80\n",
      "16/16 [==============================] - 0s 4ms/step - loss: 0.8156 - acc: 0.5042\n",
      "Epoch 8/80\n",
      "16/16 [==============================] - 0s 4ms/step - loss: 0.7995 - acc: 0.5055\n",
      "Epoch 9/80\n",
      "16/16 [==============================] - 0s 4ms/step - loss: 0.7878 - acc: 0.5059\n",
      "Epoch 10/80\n",
      "16/16 [==============================] - 0s 3ms/step - loss: 0.7793 - acc: 0.5054\n",
      "Epoch 11/80\n",
      "16/16 [==============================] - 0s 4ms/step - loss: 0.7726 - acc: 0.5056\n",
      "Epoch 12/80\n",
      "16/16 [==============================] - 0s 3ms/step - loss: 0.7660 - acc: 0.5033\n",
      "Epoch 13/80\n",
      "16/16 [==============================] - 0s 3ms/step - loss: 0.7617 - acc: 0.5043\n",
      "Epoch 14/80\n",
      "16/16 [==============================] - 0s 3ms/step - loss: 0.7595 - acc: 0.5070\n",
      "Epoch 15/80\n",
      "16/16 [==============================] - 0s 4ms/step - loss: 0.7576 - acc: 0.5069\n",
      "Epoch 16/80\n",
      "16/16 [==============================] - 0s 5ms/step - loss: 0.7561 - acc: 0.5069\n",
      "Epoch 17/80\n",
      "16/16 [==============================] - 0s 4ms/step - loss: 0.7548 - acc: 0.5066\n",
      "Epoch 18/80\n",
      "16/16 [==============================] - 0s 3ms/step - loss: 0.7537 - acc: 0.5070\n",
      "Epoch 19/80\n",
      "16/16 [==============================] - 0s 3ms/step - loss: 0.7528 - acc: 0.5083\n",
      "Epoch 20/80\n",
      "16/16 [==============================] - 0s 3ms/step - loss: 0.7520 - acc: 0.5093\n",
      "Epoch 21/80\n",
      "16/16 [==============================] - 0s 3ms/step - loss: 0.7513 - acc: 0.5093\n",
      "Epoch 22/80\n",
      "16/16 [==============================] - 0s 3ms/step - loss: 0.7508 - acc: 0.5093\n",
      "Epoch 23/80\n",
      "16/16 [==============================] - 0s 4ms/step - loss: 0.7502 - acc: 0.5093\n",
      "Epoch 24/80\n",
      "16/16 [==============================] - 0s 4ms/step - loss: 0.7497 - acc: 0.5093\n",
      "Epoch 25/80\n",
      "16/16 [==============================] - 0s 4ms/step - loss: 0.7493 - acc: 0.5093\n",
      "Epoch 26/80\n",
      "16/16 [==============================] - 0s 4ms/step - loss: 0.7489 - acc: 0.5084\n",
      "Epoch 27/80\n",
      "16/16 [==============================] - 0s 3ms/step - loss: 0.7486 - acc: 0.5081\n",
      "Epoch 28/80\n",
      "16/16 [==============================] - 0s 3ms/step - loss: 0.7483 - acc: 0.5086\n",
      "Epoch 29/80\n",
      "16/16 [==============================] - 0s 6ms/step - loss: 0.7479 - acc: 0.5087\n",
      "Epoch 30/80\n",
      "16/16 [==============================] - 0s 4ms/step - loss: 0.7475 - acc: 0.5082\n",
      "Epoch 31/80\n",
      "16/16 [==============================] - 0s 3ms/step - loss: 0.7473 - acc: 0.5085\n",
      "Epoch 32/80\n",
      "16/16 [==============================] - 0s 3ms/step - loss: 0.7469 - acc: 0.5087\n",
      "Epoch 33/80\n",
      "16/16 [==============================] - 0s 4ms/step - loss: 0.7466 - acc: 0.5087\n",
      "Epoch 34/80\n",
      "16/16 [==============================] - 0s 4ms/step - loss: 0.7463 - acc: 0.5087\n",
      "Epoch 35/80\n",
      "16/16 [==============================] - 0s 4ms/step - loss: 0.7460 - acc: 0.5087\n",
      "Epoch 36/80\n",
      "16/16 [==============================] - 0s 5ms/step - loss: 0.7458 - acc: 0.5087\n",
      "Epoch 37/80\n",
      "16/16 [==============================] - 0s 4ms/step - loss: 0.7455 - acc: 0.5087\n",
      "Epoch 38/80\n",
      "16/16 [==============================] - 0s 3ms/step - loss: 0.7452 - acc: 0.5087\n",
      "Epoch 39/80\n",
      "16/16 [==============================] - 0s 3ms/step - loss: 0.7448 - acc: 0.5087\n",
      "Epoch 40/80\n",
      "16/16 [==============================] - 0s 3ms/step - loss: 0.7438 - acc: 0.5087\n",
      "Epoch 41/80\n",
      "16/16 [==============================] - 0s 4ms/step - loss: 0.7434 - acc: 0.5087\n",
      "Epoch 42/80\n",
      "16/16 [==============================] - 0s 3ms/step - loss: 0.7433 - acc: 0.5087\n",
      "Epoch 43/80\n",
      "16/16 [==============================] - 0s 4ms/step - loss: 0.7429 - acc: 0.5087\n",
      "Epoch 44/80\n",
      "16/16 [==============================] - 0s 2ms/step - loss: 0.7425 - acc: 0.5087\n",
      "Epoch 45/80\n",
      "16/16 [==============================] - 0s 5ms/step - loss: 0.7423 - acc: 0.5087\n",
      "Epoch 46/80\n",
      "16/16 [==============================] - 0s 3ms/step - loss: 0.7421 - acc: 0.5087\n",
      "Epoch 47/80\n",
      "16/16 [==============================] - 0s 6ms/step - loss: 0.7418 - acc: 0.5087\n",
      "Epoch 48/80\n",
      "16/16 [==============================] - 0s 4ms/step - loss: 0.7415 - acc: 0.5088\n",
      "Epoch 49/80\n",
      "16/16 [==============================] - 0s 4ms/step - loss: 0.7412 - acc: 0.5092\n",
      "Epoch 50/80\n",
      "16/16 [==============================] - 0s 4ms/step - loss: 0.7409 - acc: 0.5093\n",
      "Epoch 51/80\n",
      "16/16 [==============================] - 0s 3ms/step - loss: 0.7406 - acc: 0.5093\n",
      "Epoch 52/80\n",
      "16/16 [==============================] - 0s 4ms/step - loss: 0.7403 - acc: 0.5093\n",
      "Epoch 53/80\n",
      "16/16 [==============================] - 0s 4ms/step - loss: 0.7401 - acc: 0.5093\n",
      "Epoch 54/80\n",
      "16/16 [==============================] - 0s 3ms/step - loss: 0.7399 - acc: 0.5093\n",
      "Epoch 55/80\n",
      "16/16 [==============================] - 0s 4ms/step - loss: 0.7396 - acc: 0.5093\n",
      "Epoch 56/80\n",
      "16/16 [==============================] - 0s 2ms/step - loss: 0.7393 - acc: 0.5093\n",
      "Epoch 57/80\n",
      "16/16 [==============================] - 0s 2ms/step - loss: 0.7389 - acc: 0.5093\n",
      "Epoch 58/80\n",
      "16/16 [==============================] - 0s 2ms/step - loss: 0.7385 - acc: 0.5093\n",
      "Epoch 59/80\n",
      "16/16 [==============================] - 0s 3ms/step - loss: 0.7357 - acc: 0.5091\n",
      "Epoch 60/80\n",
      "16/16 [==============================] - 0s 3ms/step - loss: 0.7359 - acc: 0.5093\n",
      "Epoch 61/80\n",
      "16/16 [==============================] - 0s 2ms/step - loss: 0.7358 - acc: 0.5090\n",
      "Epoch 62/80\n",
      "16/16 [==============================] - 0s 3ms/step - loss: 0.7357 - acc: 0.5087\n",
      "Epoch 63/80\n",
      "16/16 [==============================] - 0s 3ms/step - loss: 0.7356 - acc: 0.5087\n",
      "Epoch 64/80\n",
      "16/16 [==============================] - 0s 3ms/step - loss: 0.7355 - acc: 0.5087\n",
      "Epoch 65/80\n",
      "16/16 [==============================] - 0s 2ms/step - loss: 0.7354 - acc: 0.5087\n",
      "Epoch 66/80\n",
      "16/16 [==============================] - 0s 3ms/step - loss: 0.7352 - acc: 0.5086\n",
      "Epoch 67/80\n",
      "16/16 [==============================] - 0s 3ms/step - loss: 0.7351 - acc: 0.5087\n",
      "Epoch 68/80\n",
      "16/16 [==============================] - 0s 3ms/step - loss: 0.7350 - acc: 0.5085\n",
      "Epoch 69/80\n",
      "16/16 [==============================] - 0s 3ms/step - loss: 0.7349 - acc: 0.5085\n",
      "Epoch 70/80\n",
      "16/16 [==============================] - 0s 3ms/step - loss: 0.7347 - acc: 0.5085\n",
      "Epoch 71/80\n",
      "16/16 [==============================] - 0s 2ms/step - loss: 0.7346 - acc: 0.5082\n",
      "Epoch 72/80\n",
      "16/16 [==============================] - 0s 2ms/step - loss: 0.7344 - acc: 0.5081\n",
      "Epoch 73/80\n",
      "16/16 [==============================] - 0s 3ms/step - loss: 0.7343 - acc: 0.5081\n",
      "Epoch 74/80\n",
      "16/16 [==============================] - 0s 3ms/step - loss: 0.7342 - acc: 0.5082\n",
      "Epoch 75/80\n",
      "16/16 [==============================] - 0s 3ms/step - loss: 0.7341 - acc: 0.5087\n",
      "Epoch 76/80\n",
      "16/16 [==============================] - 0s 3ms/step - loss: 0.7340 - acc: 0.5087\n",
      "Epoch 77/80\n",
      "16/16 [==============================] - 0s 4ms/step - loss: 0.7339 - acc: 0.5087\n",
      "Epoch 78/80\n",
      "16/16 [==============================] - 0s 10ms/step - loss: 0.7338 - acc: 0.5087\n",
      "Epoch 79/80\n",
      "16/16 [==============================] - 0s 7ms/step - loss: 0.7338 - acc: 0.5087\n",
      "Epoch 80/80\n",
      "16/16 [==============================] - 0s 5ms/step - loss: 0.7336 - acc: 0.5087\n"
     ]
    }
   ],
   "source": [
    "history = model.fit(X_train,\n",
    "                    y_train,\n",
    "                    epochs=80,\n",
    "                    steps_per_epoch=16)"
   ]
  },
  {
   "cell_type": "markdown",
   "metadata": {},
   "source": [
    "history_dict = history.history\n",
    "history_dict.keys()"
   ]
  },
  {
   "cell_type": "code",
   "execution_count": 14,
   "metadata": {
    "scrolled": true
   },
   "outputs": [
    {
     "ename": "KeyError",
     "evalue": "'val_acc'",
     "output_type": "error",
     "traceback": [
      "\u001b[0;31m---------------------------------------------------------------------------\u001b[0m",
      "\u001b[0;31mKeyError\u001b[0m                                  Traceback (most recent call last)",
      "\u001b[0;32m<ipython-input-14-fa6555deaae9>\u001b[0m in \u001b[0;36m<module>\u001b[0;34m()\u001b[0m\n\u001b[1;32m      2\u001b[0m \u001b[0;34m\u001b[0m\u001b[0m\n\u001b[1;32m      3\u001b[0m \u001b[0macc\u001b[0m \u001b[0;34m=\u001b[0m \u001b[0mhistory\u001b[0m\u001b[0;34m.\u001b[0m\u001b[0mhistory\u001b[0m\u001b[0;34m[\u001b[0m\u001b[0;34m'acc'\u001b[0m\u001b[0;34m]\u001b[0m\u001b[0;34m\u001b[0m\u001b[0m\n\u001b[0;32m----> 4\u001b[0;31m \u001b[0mval_acc\u001b[0m \u001b[0;34m=\u001b[0m \u001b[0mhistory\u001b[0m\u001b[0;34m.\u001b[0m\u001b[0mhistory\u001b[0m\u001b[0;34m[\u001b[0m\u001b[0;34m'val_acc'\u001b[0m\u001b[0;34m]\u001b[0m\u001b[0;34m\u001b[0m\u001b[0m\n\u001b[0m\u001b[1;32m      5\u001b[0m \u001b[0mloss\u001b[0m \u001b[0;34m=\u001b[0m \u001b[0mhistory\u001b[0m\u001b[0;34m.\u001b[0m\u001b[0mhistory\u001b[0m\u001b[0;34m[\u001b[0m\u001b[0;34m'loss'\u001b[0m\u001b[0;34m]\u001b[0m\u001b[0;34m\u001b[0m\u001b[0m\n\u001b[1;32m      6\u001b[0m \u001b[0mval_loss\u001b[0m \u001b[0;34m=\u001b[0m \u001b[0mhistory\u001b[0m\u001b[0;34m.\u001b[0m\u001b[0mhistory\u001b[0m\u001b[0;34m[\u001b[0m\u001b[0;34m'val_loss'\u001b[0m\u001b[0;34m]\u001b[0m\u001b[0;34m\u001b[0m\u001b[0m\n",
      "\u001b[0;31mKeyError\u001b[0m: 'val_acc'"
     ]
    }
   ],
   "source": [
    "import matplotlib.pyplot as plt\n",
    "\n",
    "acc = history.history['acc']\n",
    "val_acc = history.history['val_acc']\n",
    "loss = history.history['loss']\n",
    "val_loss = history.history['val_loss']\n",
    "\n",
    "epochs = range(1, len(acc) + 1)\n",
    "\n",
    "# \"bo\" is for \"blue dot\"\n",
    "plt.plot(epochs, loss, 'bo', label='Training loss')\n",
    "# b is for \"solid blue line\"\n",
    "plt.plot(epochs, val_loss, 'b', label='Validation loss')\n",
    "plt.title('Training and validation loss')\n",
    "plt.xlabel('Epochs')\n",
    "plt.ylabel('Loss')\n",
    "plt.legend()\n",
    "\n",
    "plt.show()"
   ]
  },
  {
   "cell_type": "code",
   "execution_count": null,
   "metadata": {},
   "outputs": [],
   "source": [
    "results = model.evaluate(X_test,y_test,steps=10)\n",
    "\n",
    "print(results)"
   ]
  },
  {
   "cell_type": "code",
   "execution_count": null,
   "metadata": {},
   "outputs": [],
   "source": [
    "model.predict()"
   ]
  }
 ],
 "metadata": {
  "kernelspec": {
   "display_name": "Python 3",
   "language": "python",
   "name": "python3"
  },
  "language_info": {
   "codemirror_mode": {
    "name": "ipython",
    "version": 3
   },
   "file_extension": ".py",
   "mimetype": "text/x-python",
   "name": "python",
   "nbconvert_exporter": "python",
   "pygments_lexer": "ipython3",
   "version": "3.6.4"
  }
 },
 "nbformat": 4,
 "nbformat_minor": 2
}
