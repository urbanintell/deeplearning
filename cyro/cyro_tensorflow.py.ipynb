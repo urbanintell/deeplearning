{
 "cells": [
  {
   "cell_type": "code",
   "execution_count": 2,
   "metadata": {},
   "outputs": [],
   "source": [
    "import pandas as pd"
   ]
  },
  {
   "cell_type": "code",
   "execution_count": 3,
   "metadata": {},
   "outputs": [],
   "source": [
    "import numpy as np"
   ]
  },
  {
   "cell_type": "code",
   "execution_count": 4,
   "metadata": {},
   "outputs": [],
   "source": [
    "from numpy import genfromtxt\n",
    "my_data = genfromtxt('cryo.csv', delimiter=',')"
   ]
  },
  {
   "cell_type": "code",
   "execution_count": 5,
   "metadata": {},
   "outputs": [],
   "source": [
    "column_names = [\"sex\",\"age\",\"Time\",\"Number_of_Warts\",\"Type\",\"Area\",\"Result_of_Treatment\"]\n",
    "data = pd.read_csv('cryo.csv')\n",
    "y = data[\"Result_of_Treatment\"]\n",
    "data = data.drop(columns=[\"Result_of_Treatment\"])"
   ]
  },
  {
   "cell_type": "code",
   "execution_count": 6,
   "metadata": {
    "scrolled": true
   },
   "outputs": [
    {
     "name": "stderr",
     "output_type": "stream",
     "text": [
      "/Users/lusenii/anaconda3/lib/python3.6/site-packages/h5py/__init__.py:36: FutureWarning: Conversion of the second argument of issubdtype from `float` to `np.floating` is deprecated. In future, it will be treated as `np.float64 == np.dtype(float).type`.\n",
      "  from ._conv import register_converters as _register_converters\n"
     ]
    }
   ],
   "source": [
    "import tensorflow as tf"
   ]
  },
  {
   "cell_type": "code",
   "execution_count": 7,
   "metadata": {},
   "outputs": [],
   "source": [
    "from sklearn.model_selection import train_test_split\n",
    "from sklearn import preprocessing\n",
    "\n",
    "x = data.values #returns a numpy array\n",
    "min_max_scaler = preprocessing.MinMaxScaler()\n",
    "x_scaled = min_max_scaler.fit_transform(x)\n",
    "df = pd.DataFrame(x_scaled, columns=data.columns)\n"
   ]
  },
  {
   "cell_type": "code",
   "execution_count": 8,
   "metadata": {},
   "outputs": [],
   "source": [
    "X_train, X_test, y_train, y_test = train_test_split(df, y, test_size=0.20, random_state=42)\n",
    "\n",
    "partial_X_train, X_val, partial_y_train, y_val = train_test_split(X_train, y_train, test_size=0.2, random_state=1)"
   ]
  },
  {
   "cell_type": "code",
   "execution_count": 9,
   "metadata": {},
   "outputs": [
    {
     "name": "stderr",
     "output_type": "stream",
     "text": [
      "Using TensorFlow backend.\n"
     ]
    }
   ],
   "source": [
    "from keras import models\n",
    "from keras import layers\n",
    "\n",
    "model = models.Sequential()\n",
    "model.add(layers.Dense(16, activation='relu', input_shape=(6,)))\n",
    "model.add(layers.Dense(16, activation='relu'))\n",
    "model.add(layers.Dense(1, activation=tf.sigmoid))"
   ]
  },
  {
   "cell_type": "code",
   "execution_count": 10,
   "metadata": {},
   "outputs": [],
   "source": [
    "model.compile(optimizer='rmsprop',\n",
    "              loss='binary_crossentropy',\n",
    "              metrics=['accuracy'])"
   ]
  },
  {
   "cell_type": "code",
   "execution_count": 11,
   "metadata": {},
   "outputs": [
    {
     "name": "stdout",
     "output_type": "stream",
     "text": [
      "Epoch 1/80\n",
      "16/16 [==============================] - 1s 38ms/step - loss: 0.6728 - acc: 0.4592\n",
      "Epoch 2/80\n",
      "16/16 [==============================] - 0s 3ms/step - loss: 0.6377 - acc: 0.5443\n",
      "Epoch 3/80\n",
      "16/16 [==============================] - 0s 3ms/step - loss: 0.6068 - acc: 0.6502\n",
      "Epoch 4/80\n",
      "16/16 [==============================] - 0s 6ms/step - loss: 0.5748 - acc: 0.7622\n",
      "Epoch 5/80\n",
      "16/16 [==============================] - 0s 4ms/step - loss: 0.5431 - acc: 0.7951\n",
      "Epoch 6/80\n",
      "16/16 [==============================] - 0s 6ms/step - loss: 0.5111 - acc: 0.8264\n",
      "Epoch 7/80\n",
      "16/16 [==============================] - 0s 4ms/step - loss: 0.4790 - acc: 0.8576\n",
      "Epoch 8/80\n",
      "16/16 [==============================] - 0s 6ms/step - loss: 0.4469 - acc: 0.8733\n",
      "Epoch 9/80\n",
      "16/16 [==============================] - 0s 4ms/step - loss: 0.4150 - acc: 0.8750\n",
      "Epoch 10/80\n",
      "16/16 [==============================] - 0s 4ms/step - loss: 0.3846 - acc: 0.8889\n",
      "Epoch 11/80\n",
      "16/16 [==============================] - 0s 4ms/step - loss: 0.3559 - acc: 0.8889\n",
      "Epoch 12/80\n",
      "16/16 [==============================] - 0s 5ms/step - loss: 0.3299 - acc: 0.8889\n",
      "Epoch 13/80\n",
      "16/16 [==============================] - 0s 4ms/step - loss: 0.3061 - acc: 0.8898\n",
      "Epoch 14/80\n",
      "16/16 [==============================] - 0s 5ms/step - loss: 0.2839 - acc: 0.9028\n",
      "Epoch 15/80\n",
      "16/16 [==============================] - 0s 4ms/step - loss: 0.2634 - acc: 0.9097\n",
      "Epoch 16/80\n",
      "16/16 [==============================] - 0s 3ms/step - loss: 0.2447 - acc: 0.9167\n",
      "Epoch 17/80\n",
      "16/16 [==============================] - 0s 5ms/step - loss: 0.2276 - acc: 0.9219\n",
      "Epoch 18/80\n",
      "16/16 [==============================] - 0s 4ms/step - loss: 0.2122 - acc: 0.9358\n",
      "Epoch 19/80\n",
      "16/16 [==============================] - 0s 4ms/step - loss: 0.1978 - acc: 0.9444\n",
      "Epoch 20/80\n",
      "16/16 [==============================] - 0s 4ms/step - loss: 0.1846 - acc: 0.9514\n",
      "Epoch 21/80\n",
      "16/16 [==============================] - 0s 6ms/step - loss: 0.1726 - acc: 0.9661\n",
      "Epoch 22/80\n",
      "16/16 [==============================] - 0s 5ms/step - loss: 0.1619 - acc: 0.9722\n",
      "Epoch 23/80\n",
      "16/16 [==============================] - 0s 5ms/step - loss: 0.1521 - acc: 0.9722\n",
      "Epoch 24/80\n",
      "16/16 [==============================] - 0s 5ms/step - loss: 0.1433 - acc: 0.9722\n",
      "Epoch 25/80\n",
      "16/16 [==============================] - 0s 4ms/step - loss: 0.1357 - acc: 0.9722\n",
      "Epoch 26/80\n",
      "16/16 [==============================] - 0s 4ms/step - loss: 0.1289 - acc: 0.9722\n",
      "Epoch 27/80\n",
      "16/16 [==============================] - 0s 4ms/step - loss: 0.1228 - acc: 0.9722\n",
      "Epoch 28/80\n",
      "16/16 [==============================] - 0s 3ms/step - loss: 0.1173 - acc: 0.9722\n",
      "Epoch 29/80\n",
      "16/16 [==============================] - 0s 4ms/step - loss: 0.1123 - acc: 0.9722\n",
      "Epoch 30/80\n",
      "16/16 [==============================] - 0s 5ms/step - loss: 0.1081 - acc: 0.9722\n",
      "Epoch 31/80\n",
      "16/16 [==============================] - 0s 4ms/step - loss: 0.1030 - acc: 0.9722\n",
      "Epoch 32/80\n",
      "16/16 [==============================] - 0s 3ms/step - loss: 0.0980 - acc: 0.9722\n",
      "Epoch 33/80\n",
      "16/16 [==============================] - 0s 5ms/step - loss: 0.0923 - acc: 0.9722\n",
      "Epoch 34/80\n",
      "16/16 [==============================] - 0s 5ms/step - loss: 0.0874 - acc: 0.9722\n",
      "Epoch 35/80\n",
      "16/16 [==============================] - 0s 5ms/step - loss: 0.0832 - acc: 0.9722\n",
      "Epoch 36/80\n",
      "16/16 [==============================] - 0s 4ms/step - loss: 0.0799 - acc: 0.9722\n",
      "Epoch 37/80\n",
      "16/16 [==============================] - 0s 5ms/step - loss: 0.0768 - acc: 0.9722\n",
      "Epoch 38/80\n",
      "16/16 [==============================] - 0s 3ms/step - loss: 0.0737 - acc: 0.9722\n",
      "Epoch 39/80\n",
      "16/16 [==============================] - 0s 4ms/step - loss: 0.0706 - acc: 0.9748\n",
      "Epoch 40/80\n",
      "16/16 [==============================] - 0s 3ms/step - loss: 0.0677 - acc: 0.9800\n",
      "Epoch 41/80\n",
      "16/16 [==============================] - 0s 3ms/step - loss: 0.0651 - acc: 0.9818\n",
      "Epoch 42/80\n",
      "16/16 [==============================] - 0s 5ms/step - loss: 0.0625 - acc: 0.9861\n",
      "Epoch 43/80\n",
      "16/16 [==============================] - 0s 3ms/step - loss: 0.0601 - acc: 0.9861\n",
      "Epoch 44/80\n",
      "16/16 [==============================] - 0s 4ms/step - loss: 0.0579 - acc: 0.9861\n",
      "Epoch 45/80\n",
      "16/16 [==============================] - 0s 3ms/step - loss: 0.0558 - acc: 0.9861\n",
      "Epoch 46/80\n",
      "16/16 [==============================] - 0s 5ms/step - loss: 0.0538 - acc: 0.9861\n",
      "Epoch 47/80\n",
      "16/16 [==============================] - 0s 3ms/step - loss: 0.0519 - acc: 0.9861\n",
      "Epoch 48/80\n",
      "16/16 [==============================] - 0s 4ms/step - loss: 0.0501 - acc: 0.9861\n",
      "Epoch 49/80\n",
      "16/16 [==============================] - 0s 5ms/step - loss: 0.0484 - acc: 0.9861\n",
      "Epoch 50/80\n",
      "16/16 [==============================] - 0s 4ms/step - loss: 0.0468 - acc: 0.9861\n",
      "Epoch 51/80\n",
      "16/16 [==============================] - 0s 3ms/step - loss: 0.0452 - acc: 0.9861\n",
      "Epoch 52/80\n",
      "16/16 [==============================] - 0s 5ms/step - loss: 0.0437 - acc: 0.9861\n",
      "Epoch 53/80\n",
      "16/16 [==============================] - 0s 5ms/step - loss: 0.0422 - acc: 0.9861\n",
      "Epoch 54/80\n",
      "16/16 [==============================] - 0s 3ms/step - loss: 0.0409 - acc: 0.9861\n",
      "Epoch 55/80\n",
      "16/16 [==============================] - 0s 3ms/step - loss: 0.0395 - acc: 0.9861\n",
      "Epoch 56/80\n",
      "16/16 [==============================] - 0s 3ms/step - loss: 0.0382 - acc: 0.9861\n",
      "Epoch 57/80\n",
      "16/16 [==============================] - 0s 4ms/step - loss: 0.0369 - acc: 0.9861\n",
      "Epoch 58/80\n",
      "16/16 [==============================] - 0s 4ms/step - loss: 0.0357 - acc: 0.9861\n",
      "Epoch 59/80\n",
      "16/16 [==============================] - 0s 4ms/step - loss: 0.0345 - acc: 0.9861\n",
      "Epoch 60/80\n",
      "16/16 [==============================] - 0s 5ms/step - loss: 0.0333 - acc: 0.9861\n",
      "Epoch 61/80\n",
      "16/16 [==============================] - 0s 3ms/step - loss: 0.0321 - acc: 0.9861\n",
      "Epoch 62/80\n",
      "16/16 [==============================] - 0s 4ms/step - loss: 0.0309 - acc: 0.9878\n",
      "Epoch 63/80\n",
      "16/16 [==============================] - 0s 3ms/step - loss: 0.0296 - acc: 0.9905\n",
      "Epoch 64/80\n",
      "16/16 [==============================] - 0s 4ms/step - loss: 0.0283 - acc: 0.9931\n",
      "Epoch 65/80\n",
      "16/16 [==============================] - 0s 4ms/step - loss: 0.0271 - acc: 0.9931\n",
      "Epoch 66/80\n",
      "16/16 [==============================] - 0s 3ms/step - loss: 0.0260 - acc: 0.9931\n",
      "Epoch 67/80\n",
      "16/16 [==============================] - 0s 3ms/step - loss: 0.0250 - acc: 0.9931\n",
      "Epoch 68/80\n",
      "16/16 [==============================] - 0s 4ms/step - loss: 0.0240 - acc: 0.9931\n",
      "Epoch 69/80\n",
      "16/16 [==============================] - 0s 3ms/step - loss: 0.0230 - acc: 0.9931\n",
      "Epoch 70/80\n",
      "16/16 [==============================] - 0s 3ms/step - loss: 0.0222 - acc: 0.9939\n",
      "Epoch 71/80\n",
      "16/16 [==============================] - 0s 3ms/step - loss: 0.0213 - acc: 0.9974\n",
      "Epoch 72/80\n",
      "16/16 [==============================] - 0s 3ms/step - loss: 0.0205 - acc: 0.9983\n",
      "Epoch 73/80\n",
      "16/16 [==============================] - 0s 3ms/step - loss: 0.0198 - acc: 1.0000\n",
      "Epoch 74/80\n",
      "16/16 [==============================] - 0s 3ms/step - loss: 0.0191 - acc: 0.9991\n",
      "Epoch 75/80\n",
      "16/16 [==============================] - 0s 3ms/step - loss: 0.0185 - acc: 1.0000\n",
      "Epoch 76/80\n",
      "16/16 [==============================] - 0s 3ms/step - loss: 0.0180 - acc: 1.0000\n",
      "Epoch 77/80\n",
      "16/16 [==============================] - 0s 3ms/step - loss: 0.0173 - acc: 1.0000\n",
      "Epoch 78/80\n",
      "16/16 [==============================] - 0s 3ms/step - loss: 0.0168 - acc: 1.0000\n",
      "Epoch 79/80\n",
      "16/16 [==============================] - 0s 3ms/step - loss: 0.0162 - acc: 1.0000\n",
      "Epoch 80/80\n",
      "16/16 [==============================] - 0s 4ms/step - loss: 0.0157 - acc: 1.0000\n"
     ]
    }
   ],
   "source": [
    "history = model.fit(X_train.values,\n",
    "                    y_train.values,\n",
    "                    epochs=80,\n",
    "                    steps_per_epoch=16)"
   ]
  },
  {
   "cell_type": "markdown",
   "metadata": {},
   "source": [
    "history_dict = history.history\n",
    "history_dict.keys()"
   ]
  },
  {
   "cell_type": "code",
   "execution_count": 12,
   "metadata": {
    "scrolled": true
   },
   "outputs": [
    {
     "data": {
      "text/plain": [
       "<matplotlib.figure.Figure at 0x1a2534d9e8>"
      ]
     },
     "metadata": {},
     "output_type": "display_data"
    }
   ],
   "source": [
    "import matplotlib.pyplot as plt\n",
    "\n",
    "acc = history.history['acc']\n",
    "loss = history.history['loss']\n",
    "\n",
    "epochs = range(1, len(acc) + 1)\n",
    "\n",
    "# \"bo\" is for \"blue dot\"\n",
    "plt.plot(epochs, loss, 'bo', label='Training loss')\n",
    "# b is for \"solid blue line\"\n",
    "plt.title('Training loss')\n",
    "plt.xlabel('Epochs')\n",
    "plt.ylabel('Loss')\n",
    "plt.legend()\n",
    "\n",
    "plt.show()"
   ]
  },
  {
   "cell_type": "code",
   "execution_count": 13,
   "metadata": {},
   "outputs": [
    {
     "name": "stdout",
     "output_type": "stream",
     "text": [
      "10/10 [==============================] - 0s 17ms/step\n",
      "[1.501333236694336, 0.8888888955116272]\n"
     ]
    }
   ],
   "source": [
    "results = model.evaluate(X_test,y_test,steps=10)\n",
    "\n",
    "print(results)"
   ]
  },
  {
   "cell_type": "code",
   "execution_count": 20,
   "metadata": {},
   "outputs": [
    {
     "ename": "AttributeError",
     "evalue": "'list' object has no attribute 'shape'",
     "output_type": "error",
     "traceback": [
      "\u001b[0;31m---------------------------------------------------------------------------\u001b[0m",
      "\u001b[0;31mAttributeError\u001b[0m                            Traceback (most recent call last)",
      "\u001b[0;32m<ipython-input-20-8f7c1cab5b4c>\u001b[0m in \u001b[0;36m<module>\u001b[0;34m()\u001b[0m\n\u001b[1;32m      2\u001b[0m \u001b[0;34m\u001b[0m\u001b[0m\n\u001b[1;32m      3\u001b[0m \u001b[0mpredictions\u001b[0m \u001b[0;34m=\u001b[0m \u001b[0;34m[\u001b[0m\u001b[0mpred\u001b[0m \u001b[0;32mfor\u001b[0m \u001b[0mpred\u001b[0m \u001b[0;32min\u001b[0m \u001b[0mpredictions\u001b[0m \u001b[0;32mif\u001b[0m \u001b[0mpred\u001b[0m\u001b[0;34m[\u001b[0m\u001b[0;36m0\u001b[0m\u001b[0;34m]\u001b[0m\u001b[0;34m<=\u001b[0m\u001b[0;36m.5\u001b[0m\u001b[0;34m]\u001b[0m\u001b[0;34m\u001b[0m\u001b[0m\n\u001b[0;32m----> 4\u001b[0;31m \u001b[0mpredictions\u001b[0m\u001b[0;34m.\u001b[0m\u001b[0mshape\u001b[0m\u001b[0;34m\u001b[0m\u001b[0m\n\u001b[0m",
      "\u001b[0;31mAttributeError\u001b[0m: 'list' object has no attribute 'shape'"
     ]
    }
   ],
   "source": [
    "predictions = model.predict(X_test)\n",
    "\n",
    "predictions = [pred for pred in predictions if pred[0]<=.5]"
   ]
  },
  {
   "cell_type": "code",
   "execution_count": 16,
   "metadata": {},
   "outputs": [
    {
     "data": {
      "text/plain": [
       "40    0\n",
       "22    1\n",
       "55    0\n",
       "70    0\n",
       "0     0\n",
       "26    1\n",
       "39    0\n",
       "65    1\n",
       "10    0\n",
       "44    0\n",
       "81    1\n",
       "35    1\n",
       "56    1\n",
       "86    1\n",
       "12    1\n",
       "4     0\n",
       "18    1\n",
       "28    0\n",
       "Name: Result_of_Treatment, dtype: int64"
      ]
     },
     "execution_count": 16,
     "metadata": {},
     "output_type": "execute_result"
    }
   ],
   "source": [
    "y_test"
   ]
  },
  {
   "cell_type": "code",
   "execution_count": null,
   "metadata": {},
   "outputs": [],
   "source": []
  }
 ],
 "metadata": {
  "kernelspec": {
   "display_name": "Python 3",
   "language": "python",
   "name": "python3"
  },
  "language_info": {
   "codemirror_mode": {
    "name": "ipython",
    "version": 3
   },
   "file_extension": ".py",
   "mimetype": "text/x-python",
   "name": "python",
   "nbconvert_exporter": "python",
   "pygments_lexer": "ipython3",
   "version": "3.6.4"
  }
 },
 "nbformat": 4,
 "nbformat_minor": 2
}
